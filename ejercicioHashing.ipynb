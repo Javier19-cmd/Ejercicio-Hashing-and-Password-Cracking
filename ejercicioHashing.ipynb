{
 "cells": [
  {
   "cell_type": "code",
   "execution_count": 1,
   "metadata": {},
   "outputs": [
    {
     "name": "stdout",
     "output_type": "stream",
     "text": [
      "Falló la codificación utf-8 para el archivo words2.txt. Intentando la siguiente.\n",
      "Hash encontrado: 264bc0768362a68984faea923efaa21f67f4d10a corresponde a la contraseña: P4ssw0rd\n",
      "Hash encontrado: 32d10c7b8cf96570ca04ce37f2a19d84240d3a89 corresponde a la contraseña: abcdefghijklmnopqrstuvwxyz\n",
      "Contraseñas descifradas y sus hashes:\n",
      "264bc0768362a68984faea923efaa21f67f4d10a: P4ssw0rd\n",
      "32d10c7b8cf96570ca04ce37f2a19d84240d3a89: abcdefghijklmnopqrstuvwxyz\n"
     ]
    }
   ],
   "source": [
    "import hashlib\n",
    "\n",
    "# Función para cargar datos de un archivo, usada tanto para palabras como para hashes\n",
    "def load_data(file_path):\n",
    "    # Lista de posibles codificaciones\n",
    "    encodings = ['utf-8', 'latin1', 'cp1252']\n",
    "    for encoding in encodings:\n",
    "        try:\n",
    "            with open(file_path, 'r', encoding=encoding) as file:\n",
    "                return file.read().splitlines()\n",
    "        except UnicodeDecodeError:\n",
    "            print(f\"Falló la codificación {encoding} para el archivo {file_path}. Intentando la siguiente.\")\n",
    "\n",
    "    # Si todas las codificaciones fallan, lanzar una excepción para notificar el problema\n",
    "    raise ValueError(f\"No se pudo decodificar {file_path} con las codificaciones probadas.\")\n",
    "\n",
    "hashes = load_data('target_hashes.txt')\n",
    "words_list1 = load_data('words.txt')\n",
    "words_list2 = load_data('words2.txt')\n",
    "\n",
    "# Combinando todas las listas de palabras\n",
    "all_words = set(words_list1 + words_list2)\n",
    "\n",
    "# Lista para guardar las contraseñas encontradas\n",
    "found_passwords = []\n",
    "\n",
    "# Función para generar el hash SHA-1 de una contraseña\n",
    "def sha1_hash(string):\n",
    "    return hashlib.sha1(string.encode()).hexdigest()\n",
    "\n",
    "# Función para guardar los resultados en un archivo\n",
    "def save_results(results):\n",
    "    with open('found_passwords.txt', 'w') as file:\n",
    "        file.write(\"Hash Original - Contraseña Descifrada\\n\")\n",
    "        for hash, password in results:\n",
    "            file.write(f\"{hash} - {password}\\n\")\n",
    "\n",
    "# Buscando cada palabra en los hashes\n",
    "for word in all_words:\n",
    "    current_hash = sha1_hash(word)\n",
    "    if current_hash in hashes:\n",
    "        found_passwords.append((current_hash, word))\n",
    "        print(f\"Hash encontrado: {current_hash} corresponde a la contraseña: {word}\")\n",
    "\n",
    "# Guardando los resultados en un archivo\n",
    "save_results(found_passwords)\n",
    "\n",
    "print(\"Contraseñas descifradas y sus hashes:\")\n",
    "for hash, password in found_passwords:\n",
    "    print(f\"{hash}: {password}\")"
   ]
  },
  {
   "cell_type": "code",
   "execution_count": 2,
   "metadata": {},
   "outputs": [
    {
     "name": "stdout",
     "output_type": "stream",
     "text": [
      "Falló la codificación utf-8 para el archivo words2.txt. Intentando la siguiente.\n",
      "Hash encontrado: 264bc0768362a68984faea923efaa21f67f4d10a corresponde a la contraseña: P4ssw0rd\n",
      "Hash encontrado: 32d10c7b8cf96570ca04ce37f2a19d84240d3a89 corresponde a la contraseña: abcdefghijklmnopqrstuvwxyz\n",
      "Contraseñas descifradas y sus hashes:\n",
      "264bc0768362a68984faea923efaa21f67f4d10a: P4ssw0rd\n",
      "32d10c7b8cf96570ca04ce37f2a19d84240d3a89: abcdefghijklmnopqrstuvwxyz\n"
     ]
    }
   ],
   "source": [
    "import hashlib\n",
    "\n",
    "# Función para cargar datos de un archivo, usada tanto para palabras como para hashes\n",
    "def load_data(file_path):\n",
    "    # Lista de posibles codificaciones\n",
    "    encodings = ['utf-8', 'latin1', 'cp1252']\n",
    "    for encoding in encodings:\n",
    "        try:\n",
    "            with open(file_path, 'r', encoding=encoding) as file:\n",
    "                return file.read().splitlines()\n",
    "        except UnicodeDecodeError:\n",
    "            print(f\"Falló la codificación {encoding} para el archivo {file_path}. Intentando la siguiente.\")\n",
    "\n",
    "    # Si todas las codificaciones fallan, lanzar una excepción para notificar el problema\n",
    "    raise ValueError(f\"No se pudo decodificar {file_path} con las codificaciones probadas.\")\n",
    "\n",
    "hashes = load_data('target_hashes.txt')\n",
    "words_list1 = load_data('words.txt')\n",
    "words_list2 = load_data('words2.txt')\n",
    "words_list3 = load_data('words3.txt')\n",
    "words_list4 = load_data('words4.txt')\n",
    "\n",
    "# Combinando todas las listas de palabras\n",
    "all_words = set(words_list1 + words_list2 + words_list3 + words_list4)\n",
    "\n",
    "# Lista para guardar las contraseñas encontradas\n",
    "found_passwords = []\n",
    "\n",
    "# Función para generar el hash SHA-1 de una contraseña\n",
    "def sha1_hash(string):\n",
    "    return hashlib.sha1(string.encode()).hexdigest()\n",
    "\n",
    "# Función para guardar los resultados en un archivo\n",
    "def save_results(results):\n",
    "    with open('found_passwords.txt', 'w') as file:\n",
    "        file.write(\"Hash Original - Contraseña Descifrada\\n\")\n",
    "        for hash, password in results:\n",
    "            file.write(f\"{hash} - {password}\\n\")\n",
    "\n",
    "# Buscando cada palabra en los hashes\n",
    "for word in all_words:\n",
    "    current_hash = sha1_hash(word)\n",
    "    if current_hash in hashes:\n",
    "        found_passwords.append((current_hash, word))\n",
    "        print(f\"Hash encontrado: {current_hash} corresponde a la contraseña: {word}\")\n",
    "\n",
    "# Guardando los resultados en un archivo\n",
    "save_results(found_passwords)\n",
    "\n",
    "print(\"Contraseñas descifradas y sus hashes:\")\n",
    "for hash, password in found_passwords:\n",
    "    print(f\"{hash}: {password}\")"
   ]
  }
 ],
 "metadata": {
  "kernelspec": {
   "display_name": "Python 3",
   "language": "python",
   "name": "python3"
  },
  "language_info": {
   "codemirror_mode": {
    "name": "ipython",
    "version": 3
   },
   "file_extension": ".py",
   "mimetype": "text/x-python",
   "name": "python",
   "nbconvert_exporter": "python",
   "pygments_lexer": "ipython3",
   "version": "3.11.3"
  }
 },
 "nbformat": 4,
 "nbformat_minor": 2
}
