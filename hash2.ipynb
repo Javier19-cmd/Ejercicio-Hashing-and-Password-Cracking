{
 "cells": [
  {
   "cell_type": "code",
   "execution_count": 6,
   "metadata": {},
   "outputs": [
    {
     "name": "stdout",
     "output_type": "stream",
     "text": [
      "Falló la codificación utf-8 para el archivo words2.txt. Intentando la siguiente.\n"
     ]
    }
   ],
   "source": [
    "import hashlib\n",
    "\n",
    "# Función para cargar datos de un archivo, usada tanto para palabras como para hashes\n",
    "def load_data(file_path):\n",
    "    # Lista de posibles codificaciones\n",
    "    encodings = ['utf-8', 'latin1', 'cp1252']\n",
    "    for encoding in encodings:\n",
    "        try:\n",
    "            with open(file_path, 'r', encoding=encoding) as file:\n",
    "                return file.read().splitlines()\n",
    "        except UnicodeDecodeError:\n",
    "            print(f\"Falló la codificación {encoding} para el archivo {file_path}. Intentando la siguiente.\")\n",
    "    # Si todas las codificaciones fallan, lanzar una excepción para notificar el problema\n",
    "    raise ValueError(f\"No se pudo decodificar {file_path} con las codificaciones probadas.\")\n",
    "\n",
    "hashes = load_data('target_hashes.txt')\n",
    "words_list1 = load_data('words.txt')\n",
    "words_list2 = load_data('words2.txt')\n",
    "\n",
    "# Combinando todas las listas de palabras\n",
    "all_words = set(words_list1 + words_list2)\n",
    "\n",
    "# Lista para guardar las contraseñas encontradas\n",
    "found_passwords = []\n",
    "\n",
    "# Función para generar el hash SHA-1 de una contraseña\n",
    "def sha1_hash(string):\n",
    "    return hashlib.sha1(string.encode()).hexdigest()\n",
    "\n",
    "# Función para mutar palabras\n",
    "def mutate_words(words):\n",
    "    mutated_words = set()\n",
    "    for word in words:\n",
    "        # Añadir la palabra original\n",
    "        mutated_words.add(word)\n",
    "        # Mayúsculas y minúsculas\n",
    "        mutated_words.add(word.upper())\n",
    "        mutated_words.add(word.lower())\n",
    "        mutated_words.add(word.capitalize())\n",
    "        # Añadir dígitos comunes y caracteres especiales\n",
    "        for i in range(10):  # Números del 0 al 9\n",
    "            mutated_words.add(word + str(i))\n",
    "            mutated_words.add(str(i) + word)\n",
    "            mutated_words.add(word + str(i) * 2)\n",
    "        for special in ['!', '@', '#', '$']:\n",
    "            mutated_words.add(word + special)\n",
    "            mutated_words.add(special + word)\n",
    "    return mutated_words\n",
    "\n",
    "# Mutar todas las palabras en el conjunto all_words\n",
    "all_mutated_words = mutate_words(all_words)\n",
    "\n",
    "for word in all_words:\n",
    "    current_hash = sha1_hash(word)\n",
    "    if current_hash in hashes:\n",
    "        found_passwords.append((current_hash, word))\n",
    "        print(f\"Hash encontrado: {current_hash} corresponde a la contraseña: {word}\")\n",
    "\n",
    "# Buscando cada palabra en los hashes\n",
    "for word in all_mutated_words:\n",
    "    current_hash = sha1_hash(word)\n",
    "    if current_hash in hashes:\n",
    "        found_passwords.append((current_hash, word))\n",
    "        print(f\"Hash encontrado: {current_hash} corresponde a la contraseña: {word}\")\n",
    "\n",
    "# Función para guardar los resultados en un archivo\n",
    "def save_results(results):\n",
    "    with open('found_passwords.txt', 'w') as file:\n",
    "        file.write(\"Hash Original - Contraseña Descifrada\\n\")\n",
    "        for hash, password in results:\n",
    "            file.write(f\"{hash} - {password}\\n\")\n",
    "\n",
    "# Guardando los resultados en un archivo\n",
    "save_results(found_passwords)\n",
    "\n",
    "print(\"Contraseñas descifradas y sus hashes:\")\n",
    "for hash, password in found_passwords:\n",
    "    print(f\"{hash}: {password}\")"
   ]
  }
 ],
 "metadata": {
  "kernelspec": {
   "display_name": "Python 3",
   "language": "python",
   "name": "python3"
  },
  "language_info": {
   "codemirror_mode": {
    "name": "ipython",
    "version": 3
   },
   "file_extension": ".py",
   "mimetype": "text/x-python",
   "name": "python",
   "nbconvert_exporter": "python",
   "pygments_lexer": "ipython3",
   "version": "3.11.3"
  }
 },
 "nbformat": 4,
 "nbformat_minor": 2
}
