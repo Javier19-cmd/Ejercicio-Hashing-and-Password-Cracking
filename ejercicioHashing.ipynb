{
 "cells": [
  {
   "cell_type": "code",
   "execution_count": 11,
   "metadata": {},
   "outputs": [],
   "source": [
    "import hashlib\n",
    "import re\n",
    "\n",
    "def sha1_hash(string):\n",
    "    \"\"\"Esta función toma un string y devuelve el hash SHA-1 del mismo.\"\"\"\n",
    "    sha1 = hashlib.sha1()\n",
    "    sha1.update(string.encode('utf-8'))\n",
    "    return sha1.hexdigest()\n",
    "\n",
    "def clean_word(word):\n",
    "    \"\"\"Limpia la palabra eliminando apóstrofes y lo que sigue.\"\"\"\n",
    "    return re.sub(r\"'s$\", \"\", word)\n",
    "\n",
    "def generate_mutations(word):\n",
    "    \"\"\"Genera mutaciones comunes para una palabra dada.\"\"\"\n",
    "    mutations = []\n",
    "    # Añadir la palabra original limpia\n",
    "    clean = clean_word(word)\n",
    "    mutations.append(clean)\n",
    "    # Convertir toda la palabra a mayúsculas\n",
    "    mutations.append(clean.upper())\n",
    "    # Convertir solo la primera letra a mayúscula\n",
    "    mutations.append(clean.capitalize())\n",
    "    # Añadir números comunes al final\n",
    "    mutations.append(clean + '123')\n",
    "    mutations.append(clean + '1')\n",
    "    # Reemplazos visuales comunes\n",
    "    mutations.append(clean.replace('o', '0'))\n",
    "    mutations.append(clean.replace('e', '3'))\n",
    "    mutations.append(clean.replace('a', '@'))\n",
    "    mutations.append(clean.replace('i', '1'))\n",
    "    # Combinaciones de mutaciones\n",
    "    mutations.append(clean.capitalize() + '123')\n",
    "    mutations.append(clean.upper().replace('O', '0').replace('E', '3'))\n",
    "    return mutations\n",
    "\n",
    "def crack_sha1_hashes(hash_file, dict_file):\n",
    "    \"\"\"Esta función intenta descifrar los hashes SHA-1 usando un diccionario de palabras con mutaciones.\"\"\"\n",
    "    # Leer los hashes desde el archivo\n",
    "    with open(hash_file, 'r', encoding='utf-8') as file:\n",
    "        hashes = file.read().splitlines()\n",
    "    \n",
    "    # Leer las palabras del diccionario\n",
    "    try:\n",
    "        with open(dict_file, 'r', encoding='utf-8') as file:\n",
    "            words = file.read().splitlines()\n",
    "    except UnicodeDecodeError:\n",
    "        # Intentar con ISO-8859-1 si UTF-8 falla\n",
    "        with open(dict_file, 'r', encoding='ISO-8859-1') as file:\n",
    "            words = file.read().splitlines()\n",
    "    \n",
    "    # Diccionario para guardar las contraseñas descifradas\n",
    "    found_passwords = {}\n",
    "    \n",
    "    # Intentar cada palabra y sus mutaciones en el diccionario\n",
    "    for word in words:\n",
    "        for mutation in generate_mutations(word):\n",
    "            word_hash = sha1_hash(mutation)\n",
    "            if word_hash in hashes:\n",
    "                found_passwords[word_hash] = mutation\n",
    "                print(f\"Hash: {word_hash} - Password: {mutation}\")\n",
    "    \n",
    "    return found_passwords"
   ]
  },
  {
   "cell_type": "code",
   "execution_count": 12,
   "metadata": {},
   "outputs": [],
   "source": [
    "# Usar la función\n",
    "cracked_passwords = crack_sha1_hashes('target_hashes.txt', 'words.txt')"
   ]
  },
  {
   "cell_type": "code",
   "execution_count": 13,
   "metadata": {},
   "outputs": [],
   "source": [
    "cracked_passwords = crack_sha1_hashes('target_hashes.txt', 'words2.txt')"
   ]
  }
 ],
 "metadata": {
  "kernelspec": {
   "display_name": "Python 3",
   "language": "python",
   "name": "python3"
  },
  "language_info": {
   "codemirror_mode": {
    "name": "ipython",
    "version": 3
   },
   "file_extension": ".py",
   "mimetype": "text/x-python",
   "name": "python",
   "nbconvert_exporter": "python",
   "pygments_lexer": "ipython3",
   "version": "3.11.3"
  }
 },
 "nbformat": 4,
 "nbformat_minor": 2
}
